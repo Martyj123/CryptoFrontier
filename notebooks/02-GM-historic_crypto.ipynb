{
 "cells": [
  {
   "cell_type": "code",
   "execution_count": 26,
   "metadata": {},
   "outputs": [
    {
     "name": "stdout",
     "output_type": "stream",
     "text": [
      "The autoreload extension is already loaded. To reload it, use:\n",
      "  %reload_ext autoreload\n"
     ]
    }
   ],
   "source": [
    "import matplotlib.pyplot as plt\n",
    "import numpy as np\n",
    "import pandas as pd\n",
    "\n",
    "%load_ext autoreload\n",
    "%autoreload 2\n",
    "\n",
    "from crypto_frontier import efficient_frontier"
   ]
  },
  {
   "cell_type": "code",
   "execution_count": 27,
   "metadata": {},
   "outputs": [],
   "source": [
    "df = efficient_frontier.load_data(path=\"../crypto_frontier/data/Funds.csv\")\n",
    "df, fund_names, fund_means = efficient_frontier.pre_process_data(df)\n",
    "ef_df, portfolio_stds, portfolio_returns = efficient_frontier.efficient_frontier(df, fund_names, fund_means, 200)"
   ]
  },
  {
   "cell_type": "code",
   "execution_count": 28,
   "metadata": {},
   "outputs": [],
   "source": [
    "from Historic_Crypto import HistoricalData\n",
    "from Historic_Crypto import Cryptocurrencies"
   ]
  },
  {
   "cell_type": "code",
   "execution_count": 29,
   "metadata": {},
   "outputs": [
    {
     "name": "stdout",
     "output_type": "stream",
     "text": [
      "Checking input parameters are in the correct format.\n",
      "Formatting Dates.\n",
      "Checking if user supplied is available on the CoinBase Pro API.\n",
      "Connected to the CoinBase Pro API.\n",
      "Ticker 'ADA-USD' found at the CoinBase Pro API, continuing to extraction.\n",
      "Provisional Start: 2021-01-01T00:00:00\n",
      "Provisional End: 2021-10-28T00:00:00\n",
      "Data for chunk 1 of 2 extracted\n",
      "Provisional Start: 2021-10-28T00:00:00\n",
      "Provisional End: 2022-08-24T00:00:00\n",
      "Data for chunk 2 of 2 extracted\n",
      "Checking input parameters are in the correct format.\n",
      "Formatting Dates.\n",
      "Checking if user supplied is available on the CoinBase Pro API.\n",
      "Connected to the CoinBase Pro API.\n",
      "Ticker 'XLM-USD' found at the CoinBase Pro API, continuing to extraction.\n",
      "Provisional Start: 2021-01-01T00:00:00\n",
      "Provisional End: 2021-10-28T00:00:00\n",
      "Data for chunk 1 of 2 extracted\n",
      "Provisional Start: 2021-10-28T00:00:00\n",
      "Provisional End: 2022-08-24T00:00:00\n",
      "Data for chunk 2 of 2 extracted\n",
      "Checking input parameters are in the correct format.\n",
      "Formatting Dates.\n",
      "Checking if user supplied is available on the CoinBase Pro API.\n",
      "Connected to the CoinBase Pro API.\n",
      "Ticker 'ETH-USD' found at the CoinBase Pro API, continuing to extraction.\n",
      "Provisional Start: 2021-01-01T00:00:00\n",
      "Provisional End: 2021-10-28T00:00:00\n",
      "Data for chunk 1 of 2 extracted\n",
      "Provisional Start: 2021-10-28T00:00:00\n",
      "Provisional End: 2022-08-24T00:00:00\n",
      "Data for chunk 2 of 2 extracted\n"
     ]
    }
   ],
   "source": [
    "user_crypto = ['ADA-USD', 'XLM-USD', 'ETH-USD']\n",
    "array = []\n",
    "for i in user_crypto:\n",
    "    crypto_data = HistoricalData(i,86400,'2021-01-01-00-00').retrieve_data()\n",
    "    crypto_data = crypto_data[['close']]\n",
    "    crypto_data = crypto_data.rename(columns={'close': '{}'.format(i)})\n",
    "    array.append(crypto_data)\n",
    "\n",
    "combined = pd.concat(array, axis=1)\n",
    "\n",
    "df= combined.pct_change(periods=1)*100"
   ]
  },
  {
   "cell_type": "code",
   "execution_count": 30,
   "metadata": {},
   "outputs": [
    {
     "data": {
      "text/html": [
       "<div>\n",
       "<style scoped>\n",
       "    .dataframe tbody tr th:only-of-type {\n",
       "        vertical-align: middle;\n",
       "    }\n",
       "\n",
       "    .dataframe tbody tr th {\n",
       "        vertical-align: top;\n",
       "    }\n",
       "\n",
       "    .dataframe thead th {\n",
       "        text-align: right;\n",
       "    }\n",
       "</style>\n",
       "<table border=\"1\" class=\"dataframe\">\n",
       "  <thead>\n",
       "    <tr style=\"text-align: right;\">\n",
       "      <th></th>\n",
       "      <th>ADA-USD</th>\n",
       "      <th>XLM-USD</th>\n",
       "      <th>ETH-USD</th>\n",
       "    </tr>\n",
       "  </thead>\n",
       "  <tbody>\n",
       "    <tr>\n",
       "      <th>0</th>\n",
       "      <td>NaN</td>\n",
       "      <td>NaN</td>\n",
       "      <td>NaN</td>\n",
       "    </tr>\n",
       "    <tr>\n",
       "      <th>1</th>\n",
       "      <td>NaN</td>\n",
       "      <td>7.125455</td>\n",
       "      <td>26.459435</td>\n",
       "    </tr>\n",
       "    <tr>\n",
       "      <th>2</th>\n",
       "      <td>NaN</td>\n",
       "      <td>20.075173</td>\n",
       "      <td>6.317572</td>\n",
       "    </tr>\n",
       "    <tr>\n",
       "      <th>3</th>\n",
       "      <td>NaN</td>\n",
       "      <td>17.792502</td>\n",
       "      <td>5.885570</td>\n",
       "    </tr>\n",
       "    <tr>\n",
       "      <th>4</th>\n",
       "      <td>NaN</td>\n",
       "      <td>80.539241</td>\n",
       "      <td>9.811276</td>\n",
       "    </tr>\n",
       "    <tr>\n",
       "      <th>...</th>\n",
       "      <td>...</td>\n",
       "      <td>...</td>\n",
       "      <td>...</td>\n",
       "    </tr>\n",
       "    <tr>\n",
       "      <th>451</th>\n",
       "      <td>1.838550</td>\n",
       "      <td>1.453980</td>\n",
       "      <td>2.016512</td>\n",
       "    </tr>\n",
       "    <tr>\n",
       "      <th>452</th>\n",
       "      <td>-0.025191</td>\n",
       "      <td>0.694051</td>\n",
       "      <td>-0.441837</td>\n",
       "    </tr>\n",
       "    <tr>\n",
       "      <th>453</th>\n",
       "      <td>-4.107173</td>\n",
       "      <td>-2.692318</td>\n",
       "      <td>-3.059043</td>\n",
       "    </tr>\n",
       "    <tr>\n",
       "      <th>454</th>\n",
       "      <td>2.075852</td>\n",
       "      <td>1.875038</td>\n",
       "      <td>5.281626</td>\n",
       "    </tr>\n",
       "    <tr>\n",
       "      <th>455</th>\n",
       "      <td>-0.205938</td>\n",
       "      <td>0.965600</td>\n",
       "      <td>0.500509</td>\n",
       "    </tr>\n",
       "  </tbody>\n",
       "</table>\n",
       "<p>456 rows × 3 columns</p>\n",
       "</div>"
      ],
      "text/plain": [
       "      ADA-USD    XLM-USD    ETH-USD\n",
       "0         NaN        NaN        NaN\n",
       "1         NaN   7.125455  26.459435\n",
       "2         NaN  20.075173   6.317572\n",
       "3         NaN  17.792502   5.885570\n",
       "4         NaN  80.539241   9.811276\n",
       "..        ...        ...        ...\n",
       "451  1.838550   1.453980   2.016512\n",
       "452 -0.025191   0.694051  -0.441837\n",
       "453 -4.107173  -2.692318  -3.059043\n",
       "454  2.075852   1.875038   5.281626\n",
       "455 -0.205938   0.965600   0.500509\n",
       "\n",
       "[456 rows x 3 columns]"
      ]
     },
     "execution_count": 30,
     "metadata": {},
     "output_type": "execute_result"
    }
   ],
   "source": [
    "df.reset_index(drop=True)"
   ]
  },
  {
   "cell_type": "code",
   "execution_count": null,
   "metadata": {},
   "outputs": [],
   "source": []
  }
 ],
 "metadata": {
  "interpreter": {
   "hash": "b0fa6594d8f4cbf19f97940f81e996739fb7646882a419484c72d19e05852a7e"
  },
  "kernelspec": {
   "display_name": "Python 3.9.7 64-bit",
   "language": "python",
   "name": "python3"
  },
  "language_info": {
   "codemirror_mode": {
    "name": "ipython",
    "version": 3
   },
   "file_extension": ".py",
   "mimetype": "text/x-python",
   "name": "python",
   "nbconvert_exporter": "python",
   "pygments_lexer": "ipython3",
   "version": "3.9.7"
  },
  "orig_nbformat": 4
 },
 "nbformat": 4,
 "nbformat_minor": 2
}
